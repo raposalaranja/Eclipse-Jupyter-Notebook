{
 "cells": [
  {
   "cell_type": "markdown",
   "metadata": {},
   "source": [
    "ECLIPSE"
   ]
  },
  {
   "cell_type": "code",
   "execution_count": 9,
   "metadata": {},
   "outputs": [
    {
     "name": "stdout",
     "output_type": "stream",
     "text": [
      "According to NASA, an eclipse is an awe-inspiring celestial event \n",
      "that drastically changes the appearance of the two biggest\n",
      "objects we see in our sky the Sun and Moon.\n",
      "🌞\n",
      "🌚\n"
     ]
    }
   ],
   "source": [
    "eclipse = '''an eclipse is an awe-inspiring celestial event \n",
    "that drastically changes the appearance of the two biggest\n",
    "objects we see in our sky the Sun and Moon.''' \n",
    "print(f\"According to NASA, {eclipse}\")\n",
    "print('\\U0001F31E') \n",
    "print('\\U0001F31A')\n",
    "\n"
   ]
  },
  {
   "cell_type": "markdown",
   "metadata": {},
   "source": [
    "How do eclipses occur?"
   ]
  },
  {
   "cell_type": "code",
   "execution_count": 12,
   "metadata": {},
   "outputs": [
    {
     "name": "stdout",
     "output_type": "stream",
     "text": [
      "The Sun, Earth and Moon are the protagonists during these events,\n",
      "and the location of celestial bodies is the key to the type of visualization.\n",
      "An eclipse occurs when a celestial body, such as a Moon or a planet,\n",
      "moves into the region of shadow emitted by another celestial body.\n",
      "On Earth, people can observe two types of eclipses: solar and lunar.\n"
     ]
    }
   ],
   "source": [
    "txt = '''are the protagonists during these events,\n",
    "and the location of celestial bodies is the key to the type of visualization.\n",
    "An eclipse occurs when a celestial body, such as a Moon or a planet,\n",
    "moves into the region of shadow emitted by another celestial body.\n",
    "On Earth, people can observe two types of eclipses: solar and lunar.'''\n",
    "print(f\"The Sun, Earth and Moon {txt}\")"
   ]
  },
  {
   "cell_type": "markdown",
   "metadata": {},
   "source": [
    "Why do only a few people on Earth see an eclipse at any given time?"
   ]
  },
  {
   "cell_type": "code",
   "execution_count": 13,
   "metadata": {},
   "outputs": [
    {
     "name": "stdout",
     "output_type": "stream",
     "text": [
      "It is believed that one of the factors is the occurrence of very specific astronomical aspects, in addition to the alignment of the stars,\n",
      "such as the distance between them and the angle of their orbits. Due to these characteristics,\n",
      "Viewing a solar eclipse occurs in different ways across the Earth's surface.\n"
     ]
    }
   ],
   "source": [
    "txt = '''that one of the factors is the occurrence of very specific astronomical aspects, in addition to the alignment of the stars,\n",
    "such as the distance between them and the angle of their orbits. Due to these characteristics,\n",
    "Viewing a solar eclipse occurs in different ways across the Earth's surface.'''\n",
    "print(f\"It is believed {txt}\")"
   ]
  },
  {
   "cell_type": "markdown",
   "metadata": {},
   "source": [
    "What causes the Sun, Moon and Earth to align?"
   ]
  },
  {
   "cell_type": "code",
   "execution_count": 14,
   "metadata": {},
   "outputs": [
    {
     "name": "stdout",
     "output_type": "stream",
     "text": [
      "Solar eclipses occur when the Sun, Moon and Earth align, partially or completely.\n",
      "When this happens, Earth's satellite casts a shadow over the planet that blocks some or all of the Sun's light.\n",
      "\n",
      "This only happens occasionally, because the Moon does not orbit in exactly the same plane as the Sun and Earth.\n",
      "The time they are aligned is known as eclipse season, which occurs twice a year.\n"
     ]
    }
   ],
   "source": [
    "txt = '''occur when the Sun, Moon and Earth align, partially or completely.\n",
    "When this happens, Earth's satellite casts a shadow over the planet that blocks some or all of the Sun's light.\n",
    "\n",
    "This only happens occasionally, because the Moon does not orbit in exactly the same plane as the Sun and Earth.\n",
    "The time they are aligned is known as eclipse season, which occurs twice a year.'''\n",
    "print(f\"Solar eclipses {txt}\")"
   ]
  },
  {
   "cell_type": "markdown",
   "metadata": {},
   "source": [
    "How often do eclipses occur?"
   ]
  },
  {
   "cell_type": "code",
   "execution_count": 16,
   "metadata": {},
   "outputs": [
    {
     "name": "stdout",
     "output_type": "stream",
     "text": [
      "Generally, Solar and lunar eclipses only occur in the New and Full phases.\n",
      "Lunations occur every 29 ½ days. \n",
      "Each year, there are 2 eclipses of the Sun and 2 of the Moon, on average.\n"
     ]
    }
   ],
   "source": [
    "txt = '''Solar and lunar eclipses only occur in the New and Full phases.\n",
    "Lunations occur every 29 ½ days. \n",
    "Each year, there are 2 eclipses of the Sun and 2 of the Moon, on average.'''\n",
    "print(f\"Generally, {txt}\")"
   ]
  },
  {
   "cell_type": "markdown",
   "metadata": {},
   "source": [
    "How do scientists know when and where eclipses will occur?"
   ]
  },
  {
   "cell_type": "code",
   "execution_count": 16,
   "metadata": {},
   "outputs": [
    {
     "name": "stdout",
     "output_type": "stream",
     "text": [
      "Scientists are able to understand the movement of celestial bodies and calculate\n",
      "the forces acting on them with great precision. \n",
      "There are even programs computer with all this knowledge in its databases capable\n",
      "of calculating quickly determine the date of future eclipses.\n",
      "\n"
     ]
    }
   ],
   "source": [
    "txt = '''are able to understand the movement of celestial bodies and calculate\n",
    "the forces acting on them with great precision. \n",
    "There are even programs computer with all this knowledge in its databases capable\n",
    "of calculating quickly determine the date of future eclipses.\n",
    "'''\n",
    "print(f\"Scientists {txt}\")"
   ]
  },
  {
   "cell_type": "markdown",
   "metadata": {},
   "source": [
    "What is the difference between a lunar and solar eclipse?\n"
   ]
  },
  {
   "cell_type": "code",
   "execution_count": 18,
   "metadata": {},
   "outputs": [
    {
     "name": "stdout",
     "output_type": "stream",
     "text": [
      "When the Moon enters the Earth's shadow, a lunar eclipse occurs.\n",
      "When the Earth is struck by the Moon's shadow, a solar eclipse occurs.\n"
     ]
    }
   ],
   "source": [
    "txt = '''the Moon enters the Earth's shadow, a lunar eclipse occurs.\n",
    "When the Earth is struck by the Moon's shadow, a solar eclipse occurs.'''\n",
    "print(f\"When {txt}\")"
   ]
  },
  {
   "cell_type": "markdown",
   "metadata": {},
   "source": [
    "What is eclipse season and why do they occur approximately\n",
    "every six months (or twice a year)?"
   ]
  },
  {
   "cell_type": "code",
   "execution_count": 20,
   "metadata": {},
   "outputs": [
    {
     "name": "stdout",
     "output_type": "stream",
     "text": [
      "Because the Earth-Moon system orbits the Sun approximately twice a year\n",
      "the line of nodes is aligned with the Sun and Earth.\n",
      "These are eclipse seasons when eclipses can occur.\n",
      "When the Moon passes the node during eclipse season, an eclipse occurs.\n"
     ]
    }
   ],
   "source": [
    "txt = '''the Earth-Moon system orbits the Sun approximately twice a year\n",
    "the line of nodes is aligned with the Sun and Earth.\n",
    "These are eclipse seasons when eclipses can occur.\n",
    "When the Moon passes the node during eclipse season, an eclipse occurs.'''\n",
    "print(f\"Because {txt}\")"
   ]
  },
  {
   "cell_type": "markdown",
   "metadata": {},
   "source": []
  }
 ],
 "metadata": {
  "kernelspec": {
   "display_name": "Python 3",
   "language": "python",
   "name": "python3"
  },
  "language_info": {
   "codemirror_mode": {
    "name": "ipython",
    "version": 3
   },
   "file_extension": ".py",
   "mimetype": "text/x-python",
   "name": "python",
   "nbconvert_exporter": "python",
   "pygments_lexer": "ipython3",
   "version": "3.11.5"
  }
 },
 "nbformat": 4,
 "nbformat_minor": 2
}
